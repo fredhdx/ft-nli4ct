{
 "cells": [
  {
   "cell_type": "markdown",
   "metadata": {},
   "source": [
    "Use this notebook to prepare vector binaries to be used for topk searcer"
   ]
  },
  {
   "cell_type": "code",
   "execution_count": 40,
   "metadata": {},
   "outputs": [],
   "source": [
    "import torch\n",
    "import torch.nn.functional as F\n",
    "from tqdm import tqdm\n",
    "from transformers import AutoModel, AutoTokenizer\n",
    "\n",
    "from main import load_data\n",
    "import pickle"
   ]
  },
  {
   "cell_type": "code",
   "execution_count": 41,
   "metadata": {},
   "outputs": [],
   "source": [
    "class SentenceEmbedder:\n",
    "    def __init__(self) -> None:\n",
    "        self.device = 'cpu'\n",
    "        self.model = None\n",
    "        self.tokenizer = None\n",
    "\n",
    "    def setModel(self, device, tokenizer, model):\n",
    "        self.device = device\n",
    "        self.tokenizer = tokenizer\n",
    "        self.model = model.to(device)\n",
    "\n",
    "    def embed(self, sentences):\n",
    "        if isinstance(sentences, str):\n",
    "            sentences = [sentences]\n",
    "        encoded_input = self.tokenizer(sentences, padding=True, truncation=True, return_tensors='pt').to(self.device)\n",
    "        with torch.no_grad():\n",
    "            model_output = self.model(**encoded_input)\n",
    "        sentence_embeddings = SentenceEmbedder.mean_pooling(model_output, encoded_input['attention_mask'])\n",
    "        sentence_embeddings = F.normalize(sentence_embeddings, p=2, dim=1)\n",
    "\n",
    "        return sentence_embeddings\n",
    "\n",
    "    @staticmethod\n",
    "    def mean_pooling(model_output, attention_mask):\n",
    "        token_embeddings = model_output[0].detach().cpu() #First element of model_output contains all token embeddings\n",
    "        input_mask_expanded = attention_mask.detach().cpu().unsqueeze(-1).expand(token_embeddings.size()).float()\n",
    "        return torch.sum(token_embeddings * input_mask_expanded, 1) / torch.clamp(input_mask_expanded.sum(1), min=1e-9)"
   ]
  },
  {
   "cell_type": "markdown",
   "metadata": {},
   "source": [
    "# embed raw_text and annotation sentences"
   ]
  },
  {
   "cell_type": "code",
   "execution_count": 42,
   "metadata": {},
   "outputs": [],
   "source": [
    "device = \"cuda:0\" if torch.cuda.is_available() else \"cpu\"\n",
    "\n",
    "# https://huggingface.co/sentence-transformers/all-MiniLM-L6-v2\n",
    "# This is a good sentence embedding model\n",
    "model_name = \"sentence-transformers/all-MiniLM-L6-v2\"\n",
    "\n",
    "tokenizer = AutoTokenizer.from_pretrained(model_name)\n",
    "model = AutoModel.from_pretrained(model_name).to(device)\n",
    "\n",
    "Embedder = SentenceEmbedder()\n",
    "Embedder.setModel(device=device, model=model, tokenizer=tokenizer)"
   ]
  },
  {
   "cell_type": "code",
   "execution_count": 149,
   "metadata": {},
   "outputs": [],
   "source": [
    "# load data\n",
    "annotations, id_to_clinical_trial_record = load_data()"
   ]
  },
  {
   "cell_type": "code",
   "execution_count": 93,
   "metadata": {},
   "outputs": [
    {
     "name": "stderr",
     "output_type": "stream",
     "text": [
      "100%|██████████| 999/999 [04:01<00:00,  4.13it/s]\n"
     ]
    }
   ],
   "source": [
    "# embed reports\n",
    "# each report's section is embedded separately\n",
    "#   e.g.: \"invervention\": [(text, embedding), (text, embedding)]\n",
    "embedded_r = {}\n",
    "for id, report in tqdm(id_to_clinical_trial_record.items()):\n",
    "    embedded_r[id] = {}\n",
    "    for section_id in ['intervention', 'eligibility', 'adverse_events', 'results']:\n",
    "        section_sentences = report[section_id]\n",
    "        section_embeddings = Embedder.embed(section_sentences)\n",
    "        embedded_r[id][section_id] = list(zip(section_sentences, section_embeddings))"
   ]
  },
  {
   "cell_type": "code",
   "execution_count": 94,
   "metadata": {},
   "outputs": [],
   "source": [
    "# save to disk\n",
    "with open('raw_text_db.pickle', 'wb') as f:\n",
    "    pickle.dump(embedded_r, f, protocol=pickle.HIGHEST_PROTOCOL)"
   ]
  },
  {
   "cell_type": "code",
   "execution_count": 95,
   "metadata": {},
   "outputs": [
    {
     "name": "stderr",
     "output_type": "stream",
     "text": [
      "100%|██████████| 200/200 [00:01<00:00, 130.34it/s]\n"
     ]
    }
   ],
   "source": [
    "# embed annotations\n",
    "# same except each statement[str] -> staetment (str, embeddings)\n",
    "embedded_a = []\n",
    "for i, sample in enumerate(tqdm(annotations['validation'])):\n",
    "    x = sample\n",
    "    x['statement'] = [sample['statement'], Embedder.embed([sample['statement']])[0]]\n",
    "    embedded_a.append(x)"
   ]
  },
  {
   "cell_type": "code",
   "execution_count": 96,
   "metadata": {},
   "outputs": [],
   "source": [
    "# save to disk\n",
    "with open('annotations_db_val.pickle', 'wb') as f: \n",
    "    pickle.dump(embedded_a, f, protocol=pickle.HIGHEST_PROTOCOL)\n",
    "\n",
    "# if you are using a different embedding model\n",
    "# make a new folder under vectordb/{folderName}\n",
    "# and put both annotation and text embedding there. Keep the filename!!!!"
   ]
  },
  {
   "cell_type": "markdown",
   "metadata": {},
   "source": [
    "# Inference\n",
    "\n",
    "load from topksearcher"
   ]
  },
  {
   "cell_type": "code",
   "execution_count": 16,
   "metadata": {},
   "outputs": [],
   "source": [
    "from pathlib import Path\n"
   ]
  },
  {
   "cell_type": "code",
   "execution_count": 143,
   "metadata": {},
   "outputs": [],
   "source": [
    "class TopKSearcher:\n",
    "    def __init__(self, topk=20) -> None:\n",
    "        self.topk = topk\n",
    "        self.raw_text_db = None\n",
    "        self.annotations_db = None\n",
    "\n",
    "    def setTopK(self, k):\n",
    "        self.topk = k\n",
    "\n",
    "    def load_vector_db(self, db_path):\n",
    "        db_path = Path(db_path)\n",
    "\n",
    "        if not db_path.exists():\n",
    "            raise ValueError(f'invalid path: {str(db_path)}')\n",
    "\n",
    "        with open(str(db_path.joinpath('raw_text_db.pickle')), 'rb') as f:\n",
    "            self.raw_text_db = pickle.load(f)\n",
    "\n",
    "        with open(str(db_path.joinpath('annotations_db_val.pickle')), 'rb') as f:\n",
    "            self.annotations_db = pickle.load(f)\n",
    "    \n",
    "    def search(self, query_text):\n",
    "        raw_text_db = self.raw_text_db\n",
    "\n",
    "        # search for hypothesis vector\n",
    "        s = [x for x in self.annotations_db if x['statement'][0] == query_text]\n",
    "        if not s:\n",
    "            print('invalid hypothesis.')\n",
    "            return \"\"\n",
    "        \n",
    "        sample = s[0]\n",
    "\n",
    "        sample_type = sample['type'].lower()\n",
    "        primary_id = sample['primary_id']\n",
    "        secondary_id = sample['secondary_id']\n",
    "\n",
    "        # (text, embeddings)\n",
    "        query = sample['statement']\n",
    "\n",
    "        # prepare \n",
    "        if sample_type.lower() == 'single':\n",
    "            # [(text, embedding), ]\n",
    "            db1 = [x for sec in raw_text_db[primary_id].values() for x in sec]\n",
    "            primary_text = \"\\n\".join(TopKSearcher.search_topk_sentences(db1, query, self.topk))\n",
    "            premise = f\"Primary trial evidence are {primary_text}.\"\n",
    "        else:\n",
    "            db1 = [x for sec in raw_text_db[primary_id].values() for x in sec]\n",
    "            primary_text = \"\\n\".join(TopKSearcher.search_topk_sentences(db1, query, self.topk // 2))\n",
    "            db2 = [x for sec in raw_text_db[secondary_id].values() for x in sec]\n",
    "            secondary_text = \"\\n\".join(TopKSearcher.search_topk_sentences(db2, query, self.topk // 2))\n",
    "            premise = (\n",
    "                f\"Primary trial evidence are {primary_text}\\n and Secondary \"\n",
    "                + f\"trial evidence are {secondary_text}.\"\n",
    "            )\n",
    "\n",
    "        return premise\n",
    "\n",
    "    @staticmethod\n",
    "    def find_topk_tensors(query_tensor, tensor_list, topk):\n",
    "        tensor_stack = torch.stack(tensor_list)\n",
    "        similarity_scores = torch.nn.functional.cosine_similarity(query_tensor.unsqueeze(0), tensor_stack, dim=1)\n",
    "        topk_indices = torch.topk(similarity_scores, k=topk).indices\n",
    "        return topk_indices\n",
    "\n",
    "    @staticmethod\n",
    "    def search_topk_sentences(fulldoc, hypothesis, topk):\n",
    "        topk_indicies = TopKSearcher.find_topk_tensors(hypothesis[1], [_[1] for _ in fulldoc], topk)\n",
    "        found = []\n",
    "        for index in topk_indicies:\n",
    "            found.append(fulldoc[index.item()][0])\n",
    "        return found"
   ]
  },
  {
   "cell_type": "code",
   "execution_count": 99,
   "metadata": {},
   "outputs": [],
   "source": [
    "raw_text_db, annotations_db = load_vector_data('./vectordb/allMiniLML6V2/')"
   ]
  },
  {
   "cell_type": "code",
   "execution_count": 102,
   "metadata": {},
   "outputs": [],
   "source": [
    "query = annotations_db[0]['statement']\n",
    "# search entire doc without using section id\n",
    "db = [x for sec in raw_text_db['NCT00003199'].values() for x in sec]"
   ]
  },
  {
   "cell_type": "code",
   "execution_count": 144,
   "metadata": {},
   "outputs": [],
   "source": [
    "topksearcher = TopKSearcher(15)\n",
    "topksearcher.load_vector_db(db_path='./vectordb/allMiniLML6V2/')"
   ]
  },
  {
   "cell_type": "code",
   "execution_count": 147,
   "metadata": {},
   "outputs": [],
   "source": [
    "topksearcher.setTopK(20)"
   ]
  },
  {
   "cell_type": "code",
   "execution_count": 148,
   "metadata": {},
   "outputs": [
    {
     "data": {
      "text/plain": [
       "1998"
      ]
     },
     "execution_count": 148,
     "metadata": {},
     "output_type": "execute_result"
    }
   ],
   "source": [
    "len(topksearcher.search(query[0]))"
   ]
  }
 ],
 "metadata": {
  "kernelspec": {
   "display_name": "prod",
   "language": "python",
   "name": "python3"
  },
  "language_info": {
   "codemirror_mode": {
    "name": "ipython",
    "version": 3
   },
   "file_extension": ".py",
   "mimetype": "text/x-python",
   "name": "python",
   "nbconvert_exporter": "python",
   "pygments_lexer": "ipython3",
   "version": "3.11.5"
  }
 },
 "nbformat": 4,
 "nbformat_minor": 2
}
